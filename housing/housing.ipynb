{
 "cells": [
  {
   "cell_type": "markdown",
   "metadata": {
    "collapsed": true,
    "pycharm": {
     "name": "#%% md\n"
    }
   },
   "source": [
    "# Boston House Prices\n",
    "\n",
    "## Columns\n",
    "- 0 - **CRIM** per capita crime rate by town\n",
    "- 1 - **ZN** proportion of residential land zoned for lots over 25,000 sq.ft.\n",
    "- 2 - **INDUS** proportion of non-retail business acres per town\n",
    "- 3 - **CHAS** Charles River dummy variable (= 1 if tract bounds river; 0 otherwise)\n",
    "- 4 - **NOX** nitric oxides concentration (parts per 10 million)\n",
    "- 5 - **RM** average number of rooms per dwelling\n",
    "- 6 - **AGE** proportion of owner-occupied units built prior to 1940\n",
    "- 7 - **DIS** weighted distances to five Boston employment centres\n",
    "- 8 - **RAD** index of accessibility to radial highways\n",
    "- 9 - **TAX** full-value property-tax rate per \\$10,000\n",
    "- 10 - **PTRATIO** pupil-teacher ratio by town\n",
    "- 11 - **B** 1000(Bk - 0.63)^2 where Bk is the proportion of blacks by town\n",
    "- 12 - **LSTAT** % lower status of the population\n",
    "- 13 - **MEDV** Median value of owner-occupied homes in \\$1000's"
   ]
  },
  {
   "cell_type": "code",
   "execution_count": 17,
   "outputs": [],
   "source": [
    "import urllib\n",
    "\n",
    "def load_data_from_github():\n",
    "    with urllib.request.urlopen('https://raw.githubusercontent.com/xeloo/dll-7/master/housing/housing.csv') as f:\n",
    "        return parse_data(f)\n",
    "\n",
    "def load_data():\n",
    "    with open('housing.csv') as f:\n",
    "        return parse_data(f)\n",
    "\n",
    "def parse_data(f):\n",
    "    features = []\n",
    "    labels = []\n",
    "    for line in f:\n",
    "        line = line.split()\n",
    "        features.append([float(n) for n in line[:-1]])\n",
    "        labels.append(float(line[-1]))\n",
    "    return features, labels"
   ],
   "metadata": {
    "collapsed": false,
    "pycharm": {
     "name": "#%%\n"
    }
   }
  },
  {
   "cell_type": "code",
   "execution_count": 32,
   "outputs": [],
   "source": [
    "import torch\n",
    "\n",
    "# features, labels = load_data()\n",
    "features, labels = load_data_from_github()\n",
    "\n",
    "features = torch.tensor(features)\n",
    "labels = torch.tensor(labels)"
   ],
   "metadata": {
    "collapsed": false,
    "pycharm": {
     "name": "#%%\n"
    }
   }
  },
  {
   "cell_type": "code",
   "execution_count": 33,
   "outputs": [
    {
     "name": "stdout",
     "output_type": "stream",
     "text": [
      "Epoch 1000, loss 67.50804901123047, W ([-0.18727596  0.09416303 -0.1659706  -0.21928729 -0.00580175 -0.1694187\n",
      "  0.03244738 -0.01084442 -0.13882078  0.01088397  0.28539988  0.04264949\n",
      " -0.12453445]), B 0.21817080676555634\n",
      "Epoch 2000, loss 63.10318374633789, W ([-0.1787045   0.11728089 -0.17330188 -0.21710706 -0.00479079 -0.13765936\n",
      "  0.06374736 -0.01162837 -0.12226164  0.00902472  0.29705265  0.03982295\n",
      " -0.2147703 ]), B 0.22060246765613556\n",
      "Epoch 3000, loss 60.1593132019043, W ([-0.17062223  0.12067683 -0.17792766 -0.21500935 -0.00380981 -0.10755022\n",
      "  0.07637528 -0.01271831 -0.10658175  0.00859999  0.3086477   0.03861367\n",
      " -0.29441768]), B 0.22295576333999634\n",
      "Epoch 4000, loss 57.680946350097656, W ([-0.16277708  0.12000422 -0.18036896 -0.21296851 -0.00281846 -0.07838359\n",
      "  0.0848378  -0.01371609 -0.09240991  0.00892879  0.32067227  0.0382662\n",
      " -0.36359844]), B 0.22530409693717957\n",
      "Epoch 5000, loss 55.815128326416016, W ([-0.15513408  0.1193818  -0.18116768 -0.21097988 -0.0018141  -0.04994939\n",
      "  0.09137363 -0.01449713 -0.07987325  0.00889206  0.33300698  0.03786928\n",
      " -0.42345795]), B 0.2276538908481598\n",
      "Epoch 6000, loss 54.362327575683594, W ([-0.14793655  0.11845723 -0.18055502 -0.2090366  -0.00079953 -0.02216792\n",
      "  0.09671659 -0.01513145 -0.06860904  0.00885001  0.34549716  0.03780745\n",
      " -0.47539017]), B 0.23000173270702362\n",
      "Epoch 7000, loss 53.205596923828125, W ([-1.4142174e-01  1.1704549e-01 -1.7884573e-01 -2.0712772e-01\n",
      "  2.1896088e-04  4.9770353e-03  1.0115096e-01 -1.5688313e-02\n",
      " -5.8444511e-02  7.8184763e-03  3.5792845e-01  3.7047643e-02\n",
      " -5.2067882e-01]), B 0.23233743011951447\n",
      "Epoch 8000, loss 52.1423454284668, W ([-0.13542941  0.1166445  -0.1763008  -0.20525602  0.00124147  0.03159804\n",
      "  0.10469308 -0.01612515 -0.04933739  0.00793577  0.37028867  0.03689696\n",
      " -0.56019515]), B 0.23466524481773376\n",
      "Epoch 9000, loss 51.32639694213867, W ([-0.12992428  0.11589978 -0.17301361 -0.20340419  0.00226597  0.05768332\n",
      "  0.10803475 -0.01653727 -0.04110702  0.00782642  0.38251287  0.0363412\n",
      " -0.5944364 ]), B 0.23697999119758606\n",
      "Epoch 10000, loss 50.67047119140625, W ([-0.12490961  0.11516334 -0.16921638 -0.20157015  0.00329034  0.08331382\n",
      "  0.11067076 -0.01696097 -0.0335445   0.00773691  0.39447004  0.035962\n",
      " -0.62447804]), B 0.23927833139896393\n",
      "Epoch 11000, loss 50.03279495239258, W ([-0.12026326  0.11463039 -0.16494814 -0.19975363  0.00431257  0.10848165\n",
      "  0.1124718  -0.01738827 -0.02669241  0.00681297  0.40613332  0.03570564\n",
      " -0.6505516 ]), B 0.24155879020690918\n",
      "Epoch 12000, loss 49.543575286865234, W ([-0.11602689  0.11423358 -0.16030185 -0.19796284  0.00533048  0.13319589\n",
      "  0.11405699 -0.01789892 -0.02037024  0.00674505  0.41727707  0.03535344\n",
      " -0.6732855 ]), B 0.24381157755851746\n",
      "Epoch 13000, loss 49.067508697509766, W ([-0.11232883  0.11372776 -0.15540473 -0.19618776  0.00634343  0.15751565\n",
      "  0.11558065 -0.01842076 -0.0145173   0.00623262  0.4281465   0.03483012\n",
      " -0.6931596 ]), B 0.24604620039463043\n",
      "Epoch 14000, loss 48.69581604003906, W ([-0.10895089  0.11346852 -0.15046032 -0.19443876  0.0073503   0.1814395\n",
      "  0.11623991 -0.01900148 -0.00909811  0.00543706  0.43855512  0.03412969\n",
      " -0.71053815]), B 0.24825643002986908\n",
      "Epoch 15000, loss 48.520240783691406, W ([-0.10584512  0.11311522 -0.14548877 -0.19270769  0.00835491  0.2050654\n",
      "  0.11704152 -0.01958463 -0.00397624  0.00613291  0.4486873   0.03435089\n",
      " -0.72541606]), B 0.25045421719551086\n",
      "Epoch 16000, loss 47.95038604736328, W ([-0.10318908  0.11276836 -0.14047961 -0.19097193  0.00935026  0.2283331\n",
      "  0.11750158 -0.02029609  0.0007887   0.00496857  0.45826727  0.03346561\n",
      " -0.738642  ]), B 0.2526203989982605\n",
      "Epoch 17000, loss 47.71040344238281, W ([-0.1008092   0.11245847 -0.13543454 -0.18924169  0.01034019  0.25128904\n",
      "  0.11798911 -0.02105219  0.00529144  0.00495729  0.46752718  0.03344018\n",
      " -0.75008607]), B 0.25476565957069397\n",
      "Epoch 18000, loss 47.363922119140625, W ([-0.0985504   0.11210555 -0.1304661  -0.18752046  0.01132202  0.27394882\n",
      "  0.11802656 -0.02190458  0.00956853  0.00448429  0.4762511   0.03275967\n",
      " -0.76016295]), B 0.25688791275024414\n",
      "Epoch 19000, loss 47.086097717285156, W ([-0.09654477  0.11192611 -0.12552546 -0.18581605  0.01229784  0.2963318\n",
      "  0.11813373 -0.02285171  0.01358481  0.00380964  0.48450646  0.03230611\n",
      " -0.7688631 ]), B 0.25898563861846924\n",
      "Epoch 20000, loss 46.83015060424805, W ([-0.09456745  0.11150404 -0.12068168 -0.1841244   0.01326498  0.31841284\n",
      "  0.11793654 -0.02390374  0.01742456  0.00339301  0.49234548  0.03212029\n",
      " -0.776466  ]), B 0.26105934381484985\n"
     ]
    }
   ],
   "source": [
    "from torch.utils.data import DataLoader, TensorDataset\n",
    "\n",
    "BATCH_SIZE = 20\n",
    "NUM_EPOCHS = 20_000\n",
    "LR = 0.0000001\n",
    "\n",
    "dataset = TensorDataset(features, labels)\n",
    "batch_iter = DataLoader(dataset, BATCH_SIZE, shuffle=True)\n",
    "model = torch.nn.Sequential(torch.nn.Linear(len(features[0]), 1))\n",
    "loss = torch.nn.MSELoss(reduction='mean')\n",
    "trainer = torch.optim.SGD(model.parameters(), lr=LR)\n",
    "\n",
    "for epoch in range(1, NUM_EPOCHS + 1):\n",
    "    for F, L in batch_iter:\n",
    "        trainer.zero_grad()\n",
    "        l = loss(model(F).reshape(-1), L)\n",
    "        l.backward()\n",
    "        trainer.step()\n",
    "\n",
    "    if epoch % 1000 == 0:\n",
    "        train_loss = loss(model(features).reshape(-1), labels)\n",
    "        weight = model[0].weight[0].data.numpy()\n",
    "        bias = model[0].bias[0].data.numpy()\n",
    "        print(f'Epoch {epoch}, loss {train_loss}, W ({weight}), B {bias}')\n"
   ],
   "metadata": {
    "collapsed": false,
    "pycharm": {
     "name": "#%%\n"
    }
   }
  },
  {
   "cell_type": "code",
   "execution_count": null,
   "outputs": [],
   "source": [],
   "metadata": {
    "collapsed": false,
    "pycharm": {
     "name": "#%%\n"
    }
   }
  }
 ],
 "metadata": {
  "kernelspec": {
   "display_name": "Python 3",
   "language": "python",
   "name": "python3"
  },
  "language_info": {
   "codemirror_mode": {
    "name": "ipython",
    "version": 2
   },
   "file_extension": ".py",
   "mimetype": "text/x-python",
   "name": "python",
   "nbconvert_exporter": "python",
   "pygments_lexer": "ipython2",
   "version": "2.7.6"
  }
 },
 "nbformat": 4,
 "nbformat_minor": 0
}