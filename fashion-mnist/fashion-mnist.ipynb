{
 "cells": [
  {
   "cell_type": "markdown",
   "metadata": {
    "collapsed": true,
    "pycharm": {
     "name": "#%% md\n"
    }
   },
   "source": [
    "Постройте модель для классификации FashionMNIST. Попробуйте получить качество на тестовой выборке не ниже 88%\n"
   ]
  },
  {
   "cell_type": "code",
   "execution_count": 1,
   "outputs": [],
   "source": [
    "import torch\n",
    "import matplotlib.pyplot as plt\n",
    "import torchvision as tv\n",
    "import time"
   ],
   "metadata": {
    "collapsed": false,
    "pycharm": {
     "name": "#%%\n"
    }
   }
  },
  {
   "cell_type": "code",
   "execution_count": 2,
   "outputs": [],
   "source": [
    "train_dataset = tv.datasets.FashionMNIST('.', train=True, transform=tv.transforms.ToTensor(), download=True)\n",
    "test_dataset = tv.datasets.FashionMNIST('.', train=False, transform=tv.transforms.ToTensor(), download=True)"
   ],
   "metadata": {
    "collapsed": false,
    "pycharm": {
     "name": "#%%\n"
    }
   }
  },
  {
   "cell_type": "code",
   "execution_count": 3,
   "outputs": [
    {
     "name": "stdout",
     "output_type": "stream",
     "text": [
      "torch.Size([10000, 28, 28])\n"
     ]
    },
    {
     "data": {
      "text/plain": "<matplotlib.image.AxesImage at 0x1dbf940d640>"
     },
     "execution_count": 3,
     "metadata": {},
     "output_type": "execute_result"
    },
    {
     "data": {
      "text/plain": "<Figure size 432x288 with 1 Axes>",
      "image/png": "[encoded data removed]"
     },
     "metadata": {
      "needs_background": "light"
     },
     "output_type": "display_data"
    }
   ],
   "source": [
    "print(test_dataset.data.shape)\n",
    "plt.imshow(test_dataset.data[300].numpy(), cmap='gray_r')"
   ],
   "metadata": {
    "collapsed": false,
    "pycharm": {
     "name": "#%%\n"
    }
   }
  },
  {
   "cell_type": "code",
   "execution_count": 6,
   "outputs": [
    {
     "name": "stdout",
     "output_type": "stream",
     "text": [
      "ep: 1, time: 7.6,  TRAIN_LOSS=0.587 TRAIN_ACC=0.7866 TEST_LOSS=0.4242 TEST_ACC=0.8477\n",
      "ep: 2, time: 8.4,  TRAIN_LOSS=0.3998 TRAIN_ACC=0.8541 TEST_LOSS=0.3876 TEST_ACC=0.8589\n",
      "ep: 3, time: 7.9,  TRAIN_LOSS=0.364 TRAIN_ACC=0.8668 TEST_LOSS=0.3911 TEST_ACC=0.8613\n",
      "ep: 4, time: 8.0,  TRAIN_LOSS=0.3426 TRAIN_ACC=0.8726 TEST_LOSS=0.3655 TEST_ACC=0.8684\n",
      "ep: 5, time: 8.0,  TRAIN_LOSS=0.3279 TRAIN_ACC=0.8788 TEST_LOSS=0.3692 TEST_ACC=0.8651\n",
      "ep: 6, time: 7.9,  TRAIN_LOSS=0.3175 TRAIN_ACC=0.8821 TEST_LOSS=0.3619 TEST_ACC=0.8692\n",
      "ep: 7, time: 7.8,  TRAIN_LOSS=0.3051 TRAIN_ACC=0.8873 TEST_LOSS=0.3495 TEST_ACC=0.8729\n",
      "ep: 8, time: 7.8,  TRAIN_LOSS=0.2965 TRAIN_ACC=0.8899 TEST_LOSS=0.3435 TEST_ACC=0.8774\n",
      "ep: 9, time: 8.0,  TRAIN_LOSS=0.2876 TRAIN_ACC=0.8923 TEST_LOSS=0.3506 TEST_ACC=0.8744\n",
      "ep: 10, time: 8.4,  TRAIN_LOSS=0.2825 TRAIN_ACC=0.8949 TEST_LOSS=0.3317 TEST_ACC=0.8817\n",
      "ep: 11, time: 8.4,  TRAIN_LOSS=0.2757 TRAIN_ACC=0.8968 TEST_LOSS=0.332 TEST_ACC=0.8772\n",
      "ep: 12, time: 8.0,  TRAIN_LOSS=0.2723 TRAIN_ACC=0.898 TEST_LOSS=0.3258 TEST_ACC=0.8829\n",
      "ep: 13, time: 7.8,  TRAIN_LOSS=0.2632 TRAIN_ACC=0.9011 TEST_LOSS=0.3197 TEST_ACC=0.8859\n",
      "ep: 14, time: 8.3,  TRAIN_LOSS=0.2598 TRAIN_ACC=0.9023 TEST_LOSS=0.3265 TEST_ACC=0.8826\n",
      "ep: 15, time: 8.0,  TRAIN_LOSS=0.2581 TRAIN_ACC=0.9022 TEST_LOSS=0.3166 TEST_ACC=0.8863\n",
      "ep: 16, time: 7.9,  TRAIN_LOSS=0.2524 TRAIN_ACC=0.9043 TEST_LOSS=0.3262 TEST_ACC=0.8823\n",
      "ep: 17, time: 7.9,  TRAIN_LOSS=0.2467 TRAIN_ACC=0.9056 TEST_LOSS=0.3205 TEST_ACC=0.8844\n",
      "ep: 18, time: 8.2,  TRAIN_LOSS=0.2403 TRAIN_ACC=0.9088 TEST_LOSS=0.3248 TEST_ACC=0.8847\n",
      "ep: 19, time: 8.1,  TRAIN_LOSS=0.2421 TRAIN_ACC=0.9077 TEST_LOSS=0.3188 TEST_ACC=0.8896\n",
      "ep: 20, time: 8.1,  TRAIN_LOSS=0.2366 TRAIN_ACC=0.9099 TEST_LOSS=0.3225 TEST_ACC=0.8861\n",
      "ep: 21, time: 8.1,  TRAIN_LOSS=0.2348 TRAIN_ACC=0.9109 TEST_LOSS=0.3221 TEST_ACC=0.8881\n",
      "ep: 22, time: 8.2,  TRAIN_LOSS=0.2349 TRAIN_ACC=0.9112 TEST_LOSS=0.3175 TEST_ACC=0.8899\n",
      "ep: 23, time: 8.2,  TRAIN_LOSS=0.2283 TRAIN_ACC=0.9123 TEST_LOSS=0.3225 TEST_ACC=0.8882\n",
      "ep: 24, time: 7.9,  TRAIN_LOSS=0.2225 TRAIN_ACC=0.9151 TEST_LOSS=0.3181 TEST_ACC=0.8892\n",
      "ep: 25, time: 8.3,  TRAIN_LOSS=0.2218 TRAIN_ACC=0.9153 TEST_LOSS=0.3317 TEST_ACC=0.8892\n",
      "ep: 26, time: 8.0,  TRAIN_LOSS=0.221 TRAIN_ACC=0.9161 TEST_LOSS=0.323 TEST_ACC=0.8883\n",
      "ep: 27, time: 8.0,  TRAIN_LOSS=0.2142 TRAIN_ACC=0.9176 TEST_LOSS=0.3267 TEST_ACC=0.892\n",
      "ep: 28, time: 8.1,  TRAIN_LOSS=0.2115 TRAIN_ACC=0.9195 TEST_LOSS=0.3286 TEST_ACC=0.8847\n",
      "ep: 29, time: 8.4,  TRAIN_LOSS=0.2125 TRAIN_ACC=0.9192 TEST_LOSS=0.3185 TEST_ACC=0.8917\n",
      "ep: 30, time: 7.8,  TRAIN_LOSS=0.2079 TRAIN_ACC=0.9204 TEST_LOSS=0.3172 TEST_ACC=0.8933\n",
      "ep: 31, time: 8.1,  TRAIN_LOSS=0.2058 TRAIN_ACC=0.9212 TEST_LOSS=0.3325 TEST_ACC=0.888\n",
      "ep: 32, time: 8.4,  TRAIN_LOSS=0.2046 TRAIN_ACC=0.921 TEST_LOSS=0.3227 TEST_ACC=0.8883\n",
      "ep: 33, time: 8.3,  TRAIN_LOSS=0.2014 TRAIN_ACC=0.9236 TEST_LOSS=0.3232 TEST_ACC=0.8914\n",
      "ep: 34, time: 8.1,  TRAIN_LOSS=0.1988 TRAIN_ACC=0.9236 TEST_LOSS=0.3275 TEST_ACC=0.894\n",
      "ep: 35, time: 8.1,  TRAIN_LOSS=0.1985 TRAIN_ACC=0.9233 TEST_LOSS=0.336 TEST_ACC=0.8863\n",
      "ep: 36, time: 8.0,  TRAIN_LOSS=0.1948 TRAIN_ACC=0.9248 TEST_LOSS=0.3331 TEST_ACC=0.8872\n",
      "ep: 37, time: 8.0,  TRAIN_LOSS=0.1914 TRAIN_ACC=0.9272 TEST_LOSS=0.333 TEST_ACC=0.8876\n",
      "ep: 38, time: 7.8,  TRAIN_LOSS=0.1919 TRAIN_ACC=0.9267 TEST_LOSS=0.3341 TEST_ACC=0.89\n",
      "ep: 39, time: 8.1,  TRAIN_LOSS=0.1898 TRAIN_ACC=0.9271 TEST_LOSS=0.3326 TEST_ACC=0.8913\n",
      "ep: 40, time: 7.9,  TRAIN_LOSS=0.1885 TRAIN_ACC=0.9283 TEST_LOSS=0.3175 TEST_ACC=0.8942\n",
      "Total time: 5 min 22 sec\n"
     ]
    }
   ],
   "source": [
    "BATCH_SIZE = 256\n",
    "LR = 0.002\n",
    "NUM_EPOCHS = 40\n",
    "N1 = 256\n",
    "N2 = 256\n",
    "\n",
    "train = torch.utils.data.DataLoader(train_dataset, BATCH_SIZE)\n",
    "test = torch.utils.data.DataLoader(test_dataset, BATCH_SIZE)\n",
    "\n",
    "model = torch.nn.Sequential(\n",
    "    torch.nn.Flatten(),\n",
    "    torch.nn.Linear(784, N1),\n",
    "    # torch.nn.BatchNorm1d(N1),\n",
    "    torch.nn.Dropout(p=.25),\n",
    "    torch.nn.ReLU(),\n",
    "    torch.nn.Linear(N1, N2),\n",
    "    # torch.nn.Dropout(),\n",
    "    torch.nn.ReLU(),\n",
    "    torch.nn.Linear(N2, 10),\n",
    ")\n",
    "loss = torch.nn.CrossEntropyLoss()\n",
    "# trainer = torch.optim.SGD(model.parameters(), LR)\n",
    "trainer = torch.optim.Adam(model.parameters(), LR)\n",
    "# trainer = torch.optim.RMSprop(model.parameters(), LR)\n",
    "\n",
    "start_time = time.time()\n",
    "\n",
    "for epoch in range(1, NUM_EPOCHS + 1):\n",
    "    train_iter, train_passed = 0, 0\n",
    "    train_loss, train_acc = 0., 0.\n",
    "    epoch_time = time.time()\n",
    "\n",
    "    model.train()\n",
    "    for F, L in train:\n",
    "        trainer.zero_grad()\n",
    "        L_calc = model(F)\n",
    "        l = loss(L_calc, L)\n",
    "        l.backward()\n",
    "        trainer.step()\n",
    "\n",
    "        train_loss += l.item()\n",
    "        train_acc += (L_calc.argmax(dim=1) == L).sum().item()\n",
    "        train_iter += 1\n",
    "        train_passed += len(F)\n",
    "\n",
    "\n",
    "    test_iter, test_passed = 0, 0\n",
    "    test_loss, test_acc = 0., 0.\n",
    "\n",
    "    model.eval()\n",
    "    for F, L in test:\n",
    "        L_calc = model(F)\n",
    "        l = loss(L_calc, L)\n",
    "\n",
    "        test_loss += l.item()\n",
    "        test_acc += (L_calc.argmax(dim=1) == L).sum().item()\n",
    "        test_iter += 1\n",
    "        test_passed += len(F)\n",
    "\n",
    "    print(f'ep: {epoch}, time: {round(time.time() - epoch_time, 1)}, '\n",
    "          f' TRAIN_LOSS={round(train_loss/train_iter, 4)}'\n",
    "          f' TRAIN_ACC={round(train_acc/train_passed, 4)}'\n",
    "          f' TEST_LOSS={round(test_loss/test_iter, 4)}'\n",
    "          f' TEST_ACC={round(test_acc/test_passed, 4)}')\n",
    "\n",
    "total_time = round(time.time() - start_time)\n",
    "print(f'Total time: {total_time // 60} min {total_time % 60} sec')"
   ],
   "metadata": {
    "collapsed": false,
    "pycharm": {
     "name": "#%%\n"
    }
   }
  },
  {
   "cell_type": "markdown",
   "source": [
    "Начал с параметров из примеров с цифрами.\n",
    "Сначала подобрал LR, при 0.002 точность росла довольно быстро и относительно стабильно. При больших значениях на подходе к 88% начинало колбасить, при меньших рост качества сильно замедлялся.\n",
    "Добавил еще один слой -- результат стал стабильнее. Начинал от 16 нейронов на втором слое, но увеличение количества сказалось положительно на качестве, так что остановился так же на 256.\n",
    "После 10 эпох качество выходит на 88%, редко переваливало 89% в пределах 20 эпох.\n",
    "\n",
    "При обучении на тренировочной выборке размер потерь уменьшается, а качество растет, что в принципе логично. А вот на тестовой выборке качество растет, но потери увеличиваются. Пытаюсь понять что это означает..\n",
    "\n",
    "Вспомнил про регуляризацию, добавил Dropout с вроятностью по умолчанию - 0.5.\n",
    "Сначала после второго слоя - результат стал еще стабильнее и потери чуть снизились и стабилизировались.\n",
    "Потом только после первого слоя - скорость обучения упала в два раза, т.е. качество на 88% выходило ближе к 20 эпохе, но при этом все шло очень стабильно и потери продолжали уменьшаться с ростом качества.\n",
    "Добавление дропаута после обоих слоев ухудшило результат. Оставил только после первого слоя из-за стабильности и уменьшения потерь, хоть и медленнее -- увеличил количество эпох до 40.\n",
    "Надо еще поиграться с параметром вероятности дропдауна..\n",
    "Значение вероятности 0.25 увеличило скорость обучения и дало стабильное качество в 89% после 30 эпохи в некоторых случаях.\n",
    "\n",
    "Попробовал использовать Batch Normalization. Возможно ее нужно правильно настроить, но с параметрами по умолчанию она ухудшила результат."
   ],
   "metadata": {
    "collapsed": false,
    "pycharm": {
     "name": "#%% md\n"
    }
   }
  }
 ],
 "metadata": {
  "kernelspec": {
   "display_name": "Python 3",
   "language": "python",
   "name": "python3"
  },
  "language_info": {
   "codemirror_mode": {
    "name": "ipython",
    "version": 2
   },
   "file_extension": ".py",
   "mimetype": "text/x-python",
   "name": "python",
   "nbconvert_exporter": "python",
   "pygments_lexer": "ipython2",
   "version": "2.7.6"
  }
 },
 "nbformat": 4,
 "nbformat_minor": 0
}